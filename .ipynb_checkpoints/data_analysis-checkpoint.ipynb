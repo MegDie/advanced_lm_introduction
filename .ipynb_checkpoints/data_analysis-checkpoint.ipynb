{
 "cells": [
  {
   "cell_type": "code",
   "execution_count": 3,
   "metadata": {},
   "outputs": [],
   "source": [
    "from download import download"
   ]
  },
  {
   "cell_type": "code",
   "execution_count": 4,
   "metadata": {},
   "outputs": [
    {
     "name": "stdout",
     "output_type": "stream",
     "text": [
      "Downloading data from http://josephsalmon.eu/enseignement/datasets/Donnees_Comptages_Velos_Totem_Albert_1er_verbose.csv (48 kB)\n",
      "\n"
     ]
    },
    {
     "name": "stderr",
     "output_type": "stream",
     "text": [
      "file_sizes: 100%|███████████████████████████| 49.5k/49.5k [00:00<00:00, 247kB/s]\n"
     ]
    },
    {
     "name": "stdout",
     "output_type": "stream",
     "text": [
      "Successfully downloaded file to datasets/Donnees_Comptages_Velos_Totem_Albert_1er_verbose.csv\n",
      "Downloading data from http://josephsalmon.eu/enseignement/datasets/bicycle_db.csv (27.4 MB)\n",
      "\n"
     ]
    },
    {
     "name": "stderr",
     "output_type": "stream",
     "text": [
      "                                                                                \r"
     ]
    },
    {
     "name": "stdout",
     "output_type": "stream",
     "text": [
      "Successfully downloaded file to datasets/bicycle_db.csv\n"
     ]
    },
    {
     "name": "stderr",
     "output_type": "stream",
     "text": [
      "\r",
      "file_sizes: 100%|██████████████████████████| 28.7M/28.7M [00:28<00:00, 4.38MB/s]"
     ]
    },
    {
     "data": {
      "text/plain": [
       "'datasets/bicycle_db.csv'"
      ]
     },
     "execution_count": 4,
     "metadata": {},
     "output_type": "execute_result"
    },
    {
     "name": "stderr",
     "output_type": "stream",
     "text": [
      "\r",
      "file_sizes: 100%|██████████████████████████| 28.7M/28.7M [00:40<00:00, 4.38MB/s]"
     ]
    }
   ],
   "source": [
    "url1 = \"http://josephsalmon.eu/enseignement/datasets/Donnees_Comptages_Velos_Totem_Albert_1er_verbose.csv\"\n",
    "url2 = \"http://josephsalmon.eu/enseignement/datasets/bicycle_db.csv\"\n",
    "path_target1 = \"datasets/Donnees_Comptages_Velos_Totem_Albert_1er_verbose.csv\"\n",
    "path_target2 = \"datasets/bicycle_db.csv\"\n",
    "download(url1, path_target1, replace=False)\n",
    "download(url2, path_target2, replace=False)"
   ]
  }
 ],
 "metadata": {
  "kernelspec": {
   "display_name": "Python 3",
   "language": "python",
   "name": "python3"
  },
  "language_info": {
   "codemirror_mode": {
    "name": "ipython",
    "version": 3
   },
   "file_extension": ".py",
   "mimetype": "text/x-python",
   "name": "python",
   "nbconvert_exporter": "python",
   "pygments_lexer": "ipython3",
   "version": "3.7.4"
  }
 },
 "nbformat": 4,
 "nbformat_minor": 2
}
